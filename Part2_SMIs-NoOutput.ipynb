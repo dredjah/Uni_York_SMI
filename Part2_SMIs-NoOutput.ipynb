{
 "cells": [
  {
   "cell_type": "markdown",
   "metadata": {
    "deletable": true,
    "editable": true
   },
   "source": [
    "1) Filters out non-SMI diagnoses from 'uncombined_SMI.csv' (14 found), producing new 'filtered file' called 'SMI_uncombined_filtered.csv'.\n",
    "\n",
    "2) Imports SMI data ('uncombined_SMI.csv'), removes 'non SMIs' and then structures patient data so that only 1 row per patient, rather than a seperate row for each different SMI. This new file is called 'Part2_SMI_data.csv'. Further, an alternative version of 'Part2_SMI_data.csv' is created where SMIs simplified into 4 categories. This file is called 'Part2_SMI_data_SMIs_Grouped.csv'"
   ]
  },
  {
   "cell_type": "code",
   "execution_count": null,
   "metadata": {
    "collapsed": false,
    "deletable": true,
    "editable": true
   },
   "outputs": [],
   "source": [
    "import os\n",
    "os.listdir()"
   ]
  },
  {
   "cell_type": "code",
   "execution_count": null,
   "metadata": {
    "collapsed": true,
    "deletable": true,
    "editable": true
   },
   "outputs": [],
   "source": [
    "import pandas as pd\n",
    "import numpy as np\n",
    "import re"
   ]
  },
  {
   "cell_type": "markdown",
   "metadata": {
    "deletable": true,
    "editable": true
   },
   "source": [
    "# Filtering out non-SMI diagnoses from dataset"
   ]
  },
  {
   "cell_type": "code",
   "execution_count": null,
   "metadata": {
    "collapsed": true,
    "deletable": true,
    "editable": true
   },
   "outputs": [],
   "source": [
    "#Create a list of SMIs to remove from the dataset\n",
    "\n",
    "SMIs_to_remove = ['Western Germanic language','Germanic language','Asperger syndrome', '(Rel + psych illn) or (alc:[spouse]/[husb) or (schiz child)', '[V]Personal history of affective disorder', 'Unspecified schizoid personality disorder', 'Language disorder associated with thought disorder', 'Schizoid personality disorder NOS', 'FH: Schizophrenia', 'FH: Manic-depressive state', 'Schizoid personality disorder', 'Schizoid character', 'Schizophrenia association member', 'Manic-depression association member']"
   ]
  },
  {
   "cell_type": "code",
   "execution_count": null,
   "metadata": {
    "collapsed": false,
    "deletable": true,
    "editable": true
   },
   "outputs": [],
   "source": [
    "#Load in 'uncombined_SMI.csv' and remove 'non-SMIs'\n",
    "\n",
    "df = pd.read_csv('uncombined_SMI.csv')\n",
    "\n",
    "df.rename(columns={'CTV3Code': 'SMI_Code', 'CT3TermText': 'SMI_Description'}, inplace=True)\n",
    "df = df.drop(\"Unnamed: 0\",1)\n",
    "df['SMI_Description'] = df['SMI_Description'].map(lambda x: re.sub(r'\\t', '', x))\n",
    "\n",
    "non_smi_indices = df[df['SMI_Description'].isin(SMIs_to_remove)].index.tolist()\n",
    "\n",
    "df = df.drop(df.index[[non_smi_indices]])\n",
    "\n",
    "df = df.reset_index(drop=True)\n",
    "\n",
    "df1 = df.copy()\n",
    "df1"
   ]
  },
  {
   "cell_type": "code",
   "execution_count": null,
   "metadata": {
    "collapsed": false,
    "deletable": true,
    "editable": true
   },
   "outputs": [],
   "source": [
    "#Confirm all unwanted SMIs removed (should only be 46 unique SMIs)\n",
    "\n",
    "unique_SMIs_F = set(df1.SMI_Description)\n",
    "len(unique_SMIs_F)"
   ]
  },
  {
   "cell_type": "code",
   "execution_count": null,
   "metadata": {
    "collapsed": false,
    "deletable": true,
    "editable": true
   },
   "outputs": [],
   "source": [
    "#Print list of unique SMIs\n",
    "\n",
    "unique_SMIs_F"
   ]
  },
  {
   "cell_type": "code",
   "execution_count": null,
   "metadata": {
    "collapsed": false,
    "deletable": true,
    "editable": true
   },
   "outputs": [],
   "source": [
    "#Print 'Total Entries'\n",
    "\n",
    "print(\"Total patient entries: \", len(df1['PatientId']))\n",
    "\n",
    "#Print 'Unique patients'\n",
    "\n",
    "print(\"Unique patients: \", len(set(df1['PatientId'])))\n"
   ]
  },
  {
   "cell_type": "code",
   "execution_count": null,
   "metadata": {
    "collapsed": true,
    "deletable": true,
    "editable": true
   },
   "outputs": [],
   "source": [
    "#Save df1 to and Excle File (CSV)\n",
    "\n",
    "from pandas import ExcelWriter\n",
    "\n",
    "df1.to_csv('SMI_uncombined_filtered.csv', sep=',')"
   ]
  },
  {
   "cell_type": "markdown",
   "metadata": {
    "deletable": true,
    "editable": true
   },
   "source": [
    "# Combining all patient entries into a single row"
   ]
  },
  {
   "cell_type": "code",
   "execution_count": null,
   "metadata": {
    "collapsed": false,
    "deletable": true,
    "editable": true
   },
   "outputs": [],
   "source": [
    "#Reset index labels\n",
    "\n",
    "df1 = df1.reset_index(drop=True)\n",
    "\n",
    "#Locating duplicated PatientId (T/F) and printing how many duplicates remain\n",
    "df1_p_dup = df1[\"PatientId\"].duplicated()\n",
    "print(df1_p_dup.sum())\n",
    "    \n",
    "#Creating a list of indices for non-duplicated PatientIds\n",
    "false_index_list = df1_p_dup[df1_p_dup == False].index.tolist()\n",
    "false_index_list\n",
    "    \n",
    "#Creating a new data frame of only non-duplicated values\n",
    "dfa = df1.iloc[false_index_list]\n",
    "\n",
    "#Remove non-repeated values from original df \n",
    "df2 = df1.drop(df1.index[[false_index_list]])\n",
    "dfa = dfa[['PatientId','SMI_Code','SMI_Description','Date_Of_Diagnosis','Age_SMI_Diagnosed']]\n",
    "dfa"
   ]
  },
  {
   "cell_type": "code",
   "execution_count": null,
   "metadata": {
    "collapsed": false,
    "deletable": true,
    "editable": true
   },
   "outputs": [],
   "source": [
    "#Repeat 1 \n",
    "\n",
    "df2 = df2.reset_index(drop=True)\n",
    "df2_p_dup = df2[\"PatientId\"].duplicated()\n",
    "print(df2_p_dup.sum())\n",
    "false_index_list_2 = df2[df2_p_dup == False].index.tolist()\n",
    "dfb = df2.iloc[false_index_list_2] \n",
    "df3 = df2.drop(df2.index[[false_index_list_2]])\n",
    "dfb = dfb[['PatientId','SMI_Code','SMI_Description','Date_Of_Diagnosis','Age_SMI_Diagnosed']]\n",
    "dfb.rename(columns={'SMI_Code': 'SMI_Code_2', 'SMI_Description': 'SMI_Description_2','Date_Of_Diagnosis': 'Date_Of_Diagnosis_2', 'Age_SMI_Diagnosed': 'Age_SMI_Diagnosed_2'}, inplace=True)\n",
    "dfb"
   ]
  },
  {
   "cell_type": "code",
   "execution_count": null,
   "metadata": {
    "collapsed": false,
    "deletable": true,
    "editable": true
   },
   "outputs": [],
   "source": [
    "#Merge dfa and dfb\n",
    "\n",
    "df_merge = dfa.merge(dfb, on =[\"PatientId\"],how='left')\n",
    "df_merge"
   ]
  },
  {
   "cell_type": "code",
   "execution_count": null,
   "metadata": {
    "collapsed": false,
    "deletable": true,
    "editable": true
   },
   "outputs": [],
   "source": [
    "#Repeat 2 (Keep repeating until N =0)\n",
    "\n",
    "df3 = df3.reset_index(drop=True)\n",
    "df3_p_dup = df3[\"PatientId\"].duplicated()\n",
    "print('N:', df3_p_dup.sum())\n",
    "false_index_list_3 = df3[df3_p_dup == False].index.tolist()\n",
    "dfc = df3.iloc[false_index_list_3] \n",
    "df4 = df3.drop(df3.index[[false_index_list_3]])\n",
    "dfc = dfc[['PatientId','SMI_Code','SMI_Description','Date_Of_Diagnosis','Age_SMI_Diagnosed']]\n",
    "dfc.rename(columns={'SMI_Code': 'SMI_Code_3', 'SMI_Description': 'SMI_Description_3','Date_Of_Diagnosis': 'Date_Of_Diagnosis_3', 'Age_SMI_Diagnosed': 'Age_SMI_Diagnosed_3'}, inplace=True)\n",
    "dfc"
   ]
  },
  {
   "cell_type": "code",
   "execution_count": null,
   "metadata": {
    "collapsed": false,
    "deletable": true,
    "editable": true
   },
   "outputs": [],
   "source": [
    "#Merge \n",
    "\n",
    "df_merge_2 = df_merge.merge(dfc, on =[\"PatientId\"], how ='left')\n",
    "\n",
    "df_merge_2"
   ]
  },
  {
   "cell_type": "code",
   "execution_count": null,
   "metadata": {
    "collapsed": false,
    "deletable": true,
    "editable": true
   },
   "outputs": [],
   "source": [
    "#Repeat 3 (Keep repeating until N =0)\n",
    "\n",
    "df4 = df4.reset_index(drop=True)\n",
    "df4_p_dup = df4[\"PatientId\"].duplicated()\n",
    "print('N:', df4_p_dup.sum())\n",
    "false_index_list_4 = df4[df4_p_dup == False].index.tolist()\n",
    "dfd = df4.iloc[false_index_list_4] \n",
    "df5 = df4.drop(df4.index[[false_index_list_4]])\n",
    "dfd = dfd[['PatientId','SMI_Code','SMI_Description','Date_Of_Diagnosis','Age_SMI_Diagnosed']]\n",
    "dfd.rename(columns={'SMI_Code': 'SMI_Code_4', 'SMI_Description': 'SMI_Description_4','Date_Of_Diagnosis': 'Date_Of_Diagnosis_4', 'Age_SMI_Diagnosed': 'Age_SMI_Diagnosed_4'}, inplace=True)\n",
    "dfd"
   ]
  },
  {
   "cell_type": "code",
   "execution_count": null,
   "metadata": {
    "collapsed": false,
    "deletable": true,
    "editable": true
   },
   "outputs": [],
   "source": [
    "print(len(dfd))"
   ]
  },
  {
   "cell_type": "code",
   "execution_count": null,
   "metadata": {
    "collapsed": false,
    "deletable": true,
    "editable": true
   },
   "outputs": [],
   "source": [
    "#Merge \n",
    "\n",
    "df_merge_3 = df_merge_2.merge(dfd, on =[\"PatientId\"], how ='left')\n",
    "\n",
    "df_merge_3"
   ]
  },
  {
   "cell_type": "code",
   "execution_count": null,
   "metadata": {
    "collapsed": false,
    "deletable": true,
    "editable": true
   },
   "outputs": [],
   "source": [
    "#Repeat 4 (Keep repeating until N =0)\n",
    "\n",
    "df5 = df5.reset_index(drop=True)\n",
    "df5_p_dup = df5[\"PatientId\"].duplicated()\n",
    "print('N:', df5_p_dup.sum())\n",
    "false_index_list_5 = df5[df5_p_dup == False].index.tolist()\n",
    "dfe = df5.iloc[false_index_list_5] \n",
    "df6 = df5.drop(df5.index[[false_index_list_5]])\n",
    "dfe = dfe[['PatientId','SMI_Code','SMI_Description','Date_Of_Diagnosis','Age_SMI_Diagnosed']]\n",
    "dfe.rename(columns={'SMI_Code': 'SMI_Code_5', 'SMI_Description': 'SMI_Description_5','Date_Of_Diagnosis': 'Date_Of_Diagnosis_5', 'Age_SMI_Diagnosed': 'Age_SMI_Diagnosed_5'}, inplace=True)\n",
    "dfe"
   ]
  },
  {
   "cell_type": "code",
   "execution_count": null,
   "metadata": {
    "collapsed": false,
    "deletable": true,
    "editable": true
   },
   "outputs": [],
   "source": [
    "df_merge_4 = df_merge_3.merge(dfe, on =[\"PatientId\"], how ='left')\n",
    "\n",
    "df_merge_4"
   ]
  },
  {
   "cell_type": "code",
   "execution_count": null,
   "metadata": {
    "collapsed": false,
    "deletable": true,
    "editable": true
   },
   "outputs": [],
   "source": [
    "#Repeat 5 (Keep repeating until N =0)\n",
    "\n",
    "df6 = df6.reset_index(drop=True)\n",
    "df6_p_dup = df6[\"PatientId\"].duplicated()\n",
    "print('N:', df6_p_dup.sum())\n",
    "false_index_list_6 = df6[df6_p_dup == False].index.tolist()\n",
    "dff = df6.iloc[false_index_list_6] \n",
    "df7 = df6.drop(df6.index[[false_index_list_6]])\n",
    "dff = dff[['PatientId','SMI_Code','SMI_Description','Date_Of_Diagnosis','Age_SMI_Diagnosed']]\n",
    "dff.rename(columns={'SMI_Code': 'SMI_Code_6', 'SMI_Description': 'SMI_Description_6','Date_Of_Diagnosis': 'Date_Of_Diagnosis_6', 'Age_SMI_Diagnosed': 'Age_SMI_Diagnosed_6'}, inplace=True)\n",
    "dff"
   ]
  },
  {
   "cell_type": "code",
   "execution_count": null,
   "metadata": {
    "collapsed": false,
    "deletable": true,
    "editable": true
   },
   "outputs": [],
   "source": [
    "SMI_data = df_merge_4.merge(dff, on =[\"PatientId\"], how ='left')\n",
    "SMI_data"
   ]
  },
  {
   "cell_type": "code",
   "execution_count": null,
   "metadata": {
    "collapsed": true,
    "deletable": true,
    "editable": true
   },
   "outputs": [],
   "source": [
    "#Export 'SMI_data' to Excel File (csv)\n",
    "\n",
    "from pandas import ExcelWriter\n",
    "\n",
    "SMI_data.to_csv('Part2_SMI_data.csv', sep=',')"
   ]
  },
  {
   "cell_type": "code",
   "execution_count": null,
   "metadata": {
    "collapsed": false,
    "deletable": true,
    "editable": true
   },
   "outputs": [],
   "source": [
    "#creating a unique patient list\n",
    "\n",
    "unique_SMI_patients = SMI_data[['PatientId','Age_SMI_Diagnosed']]\n",
    "\n",
    "print(len(unique_SMI_patients))"
   ]
  },
  {
   "cell_type": "code",
   "execution_count": null,
   "metadata": {
    "collapsed": false,
    "deletable": true,
    "editable": true
   },
   "outputs": [],
   "source": [
    "\n",
    "unique_SMI_patients"
   ]
  },
  {
   "cell_type": "code",
   "execution_count": null,
   "metadata": {
    "collapsed": true,
    "deletable": true,
    "editable": true
   },
   "outputs": [],
   "source": [
    "#Export 'unique_SMI_patients' to Excel File (csv)\n",
    "\n",
    "unique_SMI_patients.to_csv('unique_smi_PatientList.csv', sep=',')"
   ]
  },
  {
   "cell_type": "markdown",
   "metadata": {
    "collapsed": true,
    "deletable": true,
    "editable": true
   },
   "source": [
    "# Combining all patients into a single row - SMIs grouped into categories"
   ]
  },
  {
   "cell_type": "code",
   "execution_count": null,
   "metadata": {
    "collapsed": false,
    "deletable": true,
    "editable": true
   },
   "outputs": [],
   "source": [
    "#Read in 'characterising_smis.csv', which acts as a reference for how to categorise each SMI in the dataset\n",
    "\n",
    "c_smis = pd.read_csv('characterising_smis.csv')\n",
    "c_smis"
   ]
  },
  {
   "cell_type": "code",
   "execution_count": null,
   "metadata": {
    "collapsed": false,
    "deletable": true,
    "editable": true
   },
   "outputs": [],
   "source": [
    "#Creating a list of all SMIs that can be categorized as 'schizophrenia'\n",
    "\n",
    "schizophrenia_list = c_smis.ix[c_smis['schizophrenia'] == True]\n",
    "schizophrenia_list = list(schizophrenia_list['SMI'].map(lambda x: re.sub(r'\\t', '', x)))\n",
    "schizophrenia_list "
   ]
  },
  {
   "cell_type": "code",
   "execution_count": null,
   "metadata": {
    "collapsed": false,
    "deletable": true,
    "editable": true
   },
   "outputs": [],
   "source": [
    "#Creating a list of all SMIs that can be categorized as 'bipolar'\n",
    "\n",
    "bipolar_list = c_smis.ix[c_smis['bipolar disorder'] == True]\n",
    "bipolar_list = list(bipolar_list['SMI'].map(lambda x: re.sub(r'\\t', '', x)))\n",
    "bipolar_list "
   ]
  },
  {
   "cell_type": "code",
   "execution_count": null,
   "metadata": {
    "collapsed": false,
    "deletable": true,
    "editable": true
   },
   "outputs": [],
   "source": [
    "#Creating a list of all SMIs that can be categorized as 'other smi'\n",
    "\n",
    "other_smi_list = c_smis.ix[c_smis['other SMI'] == True]\n",
    "other_smi_list = list(other_smi_list['SMI'].map(lambda x: re.sub(r'\\t', '', x)))\n",
    "other_smi_list "
   ]
  },
  {
   "cell_type": "code",
   "execution_count": null,
   "metadata": {
    "collapsed": false,
    "deletable": true,
    "editable": true
   },
   "outputs": [],
   "source": [
    "#Creating a list of all SMIs that can be categorized as 'unknown/unspecified'\n",
    "\n",
    "unknown_smi_list = c_smis.ix[c_smis['Unknown/unspecified'] == True]\n",
    "unknown_smi_list = list(unknown_smi_list['SMI'].map(lambda x: re.sub(r'\\t', '', x)))\n",
    "unknown_smi_list "
   ]
  },
  {
   "cell_type": "code",
   "execution_count": null,
   "metadata": {
    "collapsed": false,
    "deletable": true,
    "editable": true
   },
   "outputs": [],
   "source": [
    "df1"
   ]
  },
  {
   "cell_type": "code",
   "execution_count": null,
   "metadata": {
    "collapsed": false,
    "deletable": true,
    "editable": true
   },
   "outputs": [],
   "source": [
    "#function to classify SMIs\n",
    "\n",
    "def smi_category_sorting(SMI):\n",
    "    if SMI in schizophrenia_list:\n",
    "        return \"Schizophrenia\"\n",
    "    elif SMI in bipolar_list:\n",
    "        return \"Bipolar\"\n",
    "    elif SMI in other_smi_list:\n",
    "        return \"Other SMI\"\n",
    "    elif SMI in unknown_smi_list:\n",
    "        return \"Unknown SMI\"\n",
    "    \n"
   ]
  },
  {
   "cell_type": "code",
   "execution_count": null,
   "metadata": {
    "collapsed": false,
    "deletable": true,
    "editable": true
   },
   "outputs": [],
   "source": [
    "#adding smi type to dataframe\n",
    "\n",
    "df1['SMI_type'] = df1['SMI_Description'].apply(smi_category_sorting)\n",
    "df1.head(101)"
   ]
  },
  {
   "cell_type": "code",
   "execution_count": null,
   "metadata": {
    "collapsed": false,
    "deletable": true,
    "editable": true
   },
   "outputs": [],
   "source": [
    "#Keeping only necessay columns\n",
    "\n",
    "df_type = df1.copy()\n",
    "df_type = df_type[['PatientId','SMI_type', 'Date_Of_Diagnosis', 'Age_SMI_Diagnosed']]\n",
    "df_type"
   ]
  },
  {
   "cell_type": "code",
   "execution_count": null,
   "metadata": {
    "collapsed": false,
    "deletable": true,
    "editable": true
   },
   "outputs": [],
   "source": [
    "#Remove duplicates so that if 2 SMIs in same catagory diagnosed, only keep first diagnosis\n",
    "\n",
    "dfx = df_type.copy().drop_duplicates(subset=['PatientId','SMI_type'], keep = 'first')\n",
    "dfx"
   ]
  },
  {
   "cell_type": "code",
   "execution_count": null,
   "metadata": {
    "collapsed": false,
    "deletable": true,
    "editable": true
   },
   "outputs": [],
   "source": [
    "dfx = dfx.reset_index(drop=True)\n",
    "\n",
    "#Locating duplicated PatientId (T/F) and printing how many duplicates remain\n",
    "dfx_p_dup = dfx[\"PatientId\"].duplicated()\n",
    "print(dfx_p_dup.sum())\n",
    "    \n",
    "#Creating a list of indices for non-duplicated PatientIds\n",
    "false_index_list_x = dfx_p_dup[dfx_p_dup == False].index.tolist()\n",
    "false_index_list_x\n",
    "    \n",
    "#Creating a new data frame of only non-duplicated values\n",
    "dfxa = dfx.iloc[false_index_list_x]\n",
    "\n",
    "#Remove non-repeated values from original df \n",
    "dfx2 = dfx.drop(dfx.index[[false_index_list_x]])\n",
    "dfxa"
   ]
  },
  {
   "cell_type": "code",
   "execution_count": null,
   "metadata": {
    "collapsed": false,
    "deletable": true,
    "editable": true
   },
   "outputs": [],
   "source": [
    "#Repeat 1 \n",
    "\n",
    "dfx2 = dfx2.reset_index(drop=True)\n",
    "dfx2_p_dup = dfx2[\"PatientId\"].duplicated()\n",
    "print(dfx2_p_dup.sum())\n",
    "false_index_list_x2 = dfx2[dfx2_p_dup == False].index.tolist()\n",
    "dfxb = dfx2.iloc[false_index_list_x2] \n",
    "#Rename dfb columns\n",
    "#dfb = dfb.rename(columns={'CTV3Code_1': 'CTV3Code_2', 'CTV3TermText_1': 'CTV3TermText_2'})\n",
    "dfx3 = dfx2.drop(dfx2.index[[false_index_list_x2]])\n",
    "dfxb.rename(columns={'SMI_type': 'SMI_type_2','Date_Of_Diagnosis': 'Date_Of_Diagnosis_2', 'Age_SMI_Diagnosed': 'Age_SMI_Diagnosed_2'}, inplace=True)\n",
    "dfxb"
   ]
  },
  {
   "cell_type": "code",
   "execution_count": null,
   "metadata": {
    "collapsed": false,
    "deletable": true,
    "editable": true
   },
   "outputs": [],
   "source": [
    "#Merge dfa and dfb\n",
    "\n",
    "df_merge_x = dfxa.merge(dfxb, on =[\"PatientId\"],how='left')\n",
    "df_merge_x"
   ]
  },
  {
   "cell_type": "code",
   "execution_count": null,
   "metadata": {
    "collapsed": false,
    "deletable": true,
    "editable": true
   },
   "outputs": [],
   "source": [
    "#Repeat 2 (Keep repeating until N =0)\n",
    "\n",
    "dfx3 = dfx3.reset_index(drop=True)\n",
    "dfx3_p_dup = dfx3[\"PatientId\"].duplicated()\n",
    "print('N:', dfx3_p_dup.sum())\n",
    "false_index_list_x3 = dfx3[dfx3_p_dup == False].index.tolist()\n",
    "dfxc = dfx3.iloc[false_index_list_x3] \n",
    "#Rename dfb columns\n",
    "#dfc = dfc.rename(columns={'CTV3Code_1': 'CTV3Code_3', 'CTV3TermText_1': 'CTV3TermText_3'})\n",
    "dfx4 = dfx3.drop(dfx3.index[[false_index_list_x3]])\n",
    "dfxc.rename(columns={'SMI_type': 'SMI_type_3','Date_Of_Diagnosis': 'Date_Of_Diagnosis_3', 'Age_SMI_Diagnosed': 'Age_SMI_Diagnosed_3'}, inplace=True)\n",
    "dfxc"
   ]
  },
  {
   "cell_type": "code",
   "execution_count": null,
   "metadata": {
    "collapsed": false,
    "deletable": true,
    "editable": true
   },
   "outputs": [],
   "source": [
    "#Merge \n",
    "\n",
    "df_merge_x2 = df_merge_x.merge(dfxc, on =[\"PatientId\"], how ='left')\n",
    "\n",
    "df_merge_x2"
   ]
  },
  {
   "cell_type": "code",
   "execution_count": null,
   "metadata": {
    "collapsed": true,
    "deletable": true,
    "editable": true
   },
   "outputs": [],
   "source": [
    "#Export 'df_merge_x2' as Excel File (CSV)\n",
    "\n",
    "df_merge_x2.to_csv('Part2_SMI_data_SMIs_Grouped.csv', sep=',')"
   ]
  }
 ],
 "metadata": {
  "kernelspec": {
   "display_name": "Python 3",
   "language": "python",
   "name": "python3"
  },
  "language_info": {
   "codemirror_mode": {
    "name": "ipython",
    "version": 3
   },
   "file_extension": ".py",
   "mimetype": "text/x-python",
   "name": "python",
   "nbconvert_exporter": "python",
   "pygments_lexer": "ipython3",
   "version": "3.6.0"
  }
 },
 "nbformat": 4,
 "nbformat_minor": 2
}
