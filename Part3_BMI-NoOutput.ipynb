{
 "cells": [
  {
   "cell_type": "markdown",
   "metadata": {
    "deletable": true,
    "editable": true
   },
   "source": [
    "1) Loads in 'SMI_uncombined_filtered.csv' and uses it to create a list of when each patient was first diagnosed with an SMI.\n",
    "\n",
    "2) Loads in 'AHSN_Final_Taylor_Additional_Coded_Events_Total2.txt', containing medical records, and filters for BMI readings. Then filters are applied so that a dataframe is left which contains only BMI readings made after SMI diagnosis (df_working).\n",
    "\n",
    "3) Creates a table ('Part3_bmi_summary_data.csv') containing BMI summary data, including BMI after diagnosis, latest BMI, BMI change per year and mean BMI (all readings after diagnosis).\n",
    "\n",
    "4) Creates Excel File showing how many patients have BMI records in each year ('Part3_BMIRecordsEachYear.csv')\n",
    " \n",
    "4) Works out annual BMIs since diagnosis 'Part3_Annual_BMI_record.csv'."
   ]
  },
  {
   "cell_type": "code",
   "execution_count": null,
   "metadata": {
    "collapsed": false,
    "deletable": true,
    "editable": true
   },
   "outputs": [],
   "source": [
    "import os\n",
    "os.listdir()"
   ]
  },
  {
   "cell_type": "code",
   "execution_count": null,
   "metadata": {
    "collapsed": true,
    "deletable": true,
    "editable": true
   },
   "outputs": [],
   "source": [
    "import pandas as pd\n",
    "import numpy as np\n",
    "import datetime "
   ]
  },
  {
   "cell_type": "markdown",
   "metadata": {
    "deletable": true,
    "editable": true
   },
   "source": [
    "# Creating a df of BMI info after SMI diagnosis"
   ]
  },
  {
   "cell_type": "code",
   "execution_count": null,
   "metadata": {
    "collapsed": false,
    "deletable": true,
    "editable": true
   },
   "outputs": [],
   "source": [
    "#Load in 'combined_data' \n",
    "\n",
    "df = pd.read_csv('SMI_uncombined_filtered.csv')\n",
    "df\n"
   ]
  },
  {
   "cell_type": "code",
   "execution_count": null,
   "metadata": {
    "collapsed": false,
    "deletable": true,
    "editable": true,
    "scrolled": true
   },
   "outputs": [],
   "source": [
    "#Making a list of when each patient was first diagnosed with an SMI and writing it to an Excel File ('first_diagnosis.csv')\n",
    "\n",
    "first_SMI_diagnosed = df[[\"PatientId\",\"Date_Of_Diagnosis\"]]\n",
    "first_SMI_diagnosed = first_SMI_diagnosed.rename(columns={'Date_Of_Diagnosis': '1st_SMI_Diagnosis'})\n",
    "first_SMI_diagnosed = first_SMI_diagnosed.sort_values(by=[\"PatientId\",\"1st_SMI_Diagnosis\",])\n",
    "first_SMI_diagnosed = first_SMI_diagnosed.drop_duplicates(subset=['PatientId'], keep = 'last')\n",
    "first_SMI_diagnosed.to_csv('first_diagnosis.csv', sep=',')"
   ]
  },
  {
   "cell_type": "code",
   "execution_count": null,
   "metadata": {
    "collapsed": false,
    "deletable": true,
    "editable": true
   },
   "outputs": [],
   "source": [
    "#Importing the csv file that contains info on BMI (ISO-8859-1 used due to presence of 'special' characters in file)\n",
    "\n",
    "df1 = pd.read_csv('AHSN_Final_Taylor_Additional_Coded_Events_Total2.txt', sep ='|', encoding = 'ISO-8859-1')\n",
    "df1.head()"
   ]
  },
  {
   "cell_type": "code",
   "execution_count": null,
   "metadata": {
    "collapsed": false,
    "deletable": true,
    "editable": true
   },
   "outputs": [],
   "source": [
    "#Keep only necessary columns\n",
    "\n",
    "df1 = df1[['PatientId', 'EventDate', 'CTV3TermText', 'NumberValue']]\n",
    "\n",
    "df1.head()"
   ]
  },
  {
   "cell_type": "code",
   "execution_count": null,
   "metadata": {
    "collapsed": false,
    "deletable": true,
    "editable": true
   },
   "outputs": [],
   "source": [
    "#Make a list of rows containing BMI observations that are not 0\n",
    "\n",
    "BMI_index_list = df1[df1['CTV3TermText'] == 'Body mass index - observation']\n",
    "\n",
    "BMI_index_list = BMI_index_list[BMI_index_list['NumberValue'] != 0].index.tolist()\n",
    "\n",
    "#Print length of 'BMI_index_list'\n",
    "\n",
    "len(BMI_index_list)"
   ]
  },
  {
   "cell_type": "code",
   "execution_count": null,
   "metadata": {
    "collapsed": false,
    "deletable": true,
    "editable": true
   },
   "outputs": [],
   "source": [
    "BMI_filtered = df1.iloc[BMI_index_list]\n",
    "BMI_filtered"
   ]
  },
  {
   "cell_type": "code",
   "execution_count": null,
   "metadata": {
    "collapsed": false,
    "deletable": true,
    "editable": true
   },
   "outputs": [],
   "source": [
    "#Merge together 'first_SMI_diagnosed' df with 'BMI_filtered' df\n",
    "\n",
    "merged = first_SMI_diagnosed.merge(BMI_filtered,on =[\"PatientId\"])\n",
    "merged"
   ]
  },
  {
   "cell_type": "code",
   "execution_count": null,
   "metadata": {
    "collapsed": false,
    "deletable": true,
    "editable": true
   },
   "outputs": [],
   "source": [
    "#Convert dates to same datetime objects\n",
    "\n",
    "merged['EventDate'] = pd.to_datetime(merged['EventDate'])\n",
    "merged['1st_SMI_Diagnosis'] = pd.to_datetime(merged['1st_SMI_Diagnosis'])\n",
    "\n",
    "merged"
   ]
  },
  {
   "cell_type": "code",
   "execution_count": null,
   "metadata": {
    "collapsed": false,
    "deletable": true,
    "editable": true
   },
   "outputs": [],
   "source": [
    "#Reveal rows where the appointment (Eventdate) was before (or same as) SMI diagnosis\n",
    "\n",
    "BMI_after_diagnosis = merged['EventDate']>=merged['1st_SMI_Diagnosis']\n",
    "BMI_after_diagnosis.head()"
   ]
  },
  {
   "cell_type": "code",
   "execution_count": null,
   "metadata": {
    "collapsed": false,
    "deletable": true,
    "editable": true
   },
   "outputs": [],
   "source": [
    "#Make a list of rows where the appointment comes after the SMI diagnosis\n",
    "\n",
    "BMI_after_diagnosis_list = merged[BMI_after_diagnosis == True].index.tolist()\n",
    "len(BMI_after_diagnosis_list)"
   ]
  },
  {
   "cell_type": "code",
   "execution_count": null,
   "metadata": {
    "collapsed": false,
    "deletable": true,
    "editable": true
   },
   "outputs": [],
   "source": [
    "#Create new 'working df' containing only the desired appointments (i.e. after SMI diagnosis)\n",
    "\n",
    "df_working = merged.iloc[BMI_after_diagnosis_list] \n",
    "\n",
    "df_working"
   ]
  },
  {
   "cell_type": "code",
   "execution_count": null,
   "metadata": {
    "collapsed": false,
    "deletable": true,
    "editable": true
   },
   "outputs": [],
   "source": [
    "#Sort df so that it is ordered by 'PatientId' followed by 'EventDate'\n",
    "\n",
    "df_working = df_working.sort_values(by=[\"PatientId\",\"EventDate\",])\n",
    "df_working = df_working.reset_index(drop=True)\n",
    "df_working"
   ]
  },
  {
   "cell_type": "markdown",
   "metadata": {
    "deletable": true,
    "editable": true
   },
   "source": [
    "# Creating a BMI summary table"
   ]
  },
  {
   "cell_type": "code",
   "execution_count": null,
   "metadata": {
    "collapsed": false,
    "deletable": true,
    "editable": true
   },
   "outputs": [],
   "source": [
    "#Calculating mean_bmi\n",
    "\n",
    "mean_bmi = df_working.groupby('PatientId').mean()\n",
    "mean_bmi = mean_bmi.rename(columns={'NumberValue': 'Mean_BMI'})\n",
    "\n",
    "mean_bmi['PatientId'] = mean_bmi.index\n",
    "\n",
    "mean_bmi\n"
   ]
  },
  {
   "cell_type": "code",
   "execution_count": null,
   "metadata": {
    "collapsed": false,
    "deletable": true,
    "editable": true
   },
   "outputs": [],
   "source": [
    "#Take BMI reading from first appointment after SMI diagnosis\n",
    "\n",
    "df_first = df_working.drop_duplicates(subset=['PatientId'], keep = 'first')\n",
    "df_first = df_first.rename(columns={'NumberValue': 'Baseline_BMI', 'EventDate': 'BMI_Date'})\n",
    "df_first = df_first.drop(\"CTV3TermText\",1)\n",
    "df_first = df_first[['PatientId', '1st_SMI_Diagnosis', 'Baseline_BMI', 'BMI_Date']]\n",
    "df_first"
   ]
  },
  {
   "cell_type": "code",
   "execution_count": null,
   "metadata": {
    "collapsed": false,
    "deletable": true,
    "editable": true
   },
   "outputs": [],
   "source": [
    "#Take BMI reading from most recent appointment\n",
    "\n",
    "df_latest = df_working.drop_duplicates(subset=['PatientId'], keep = 'last')\n",
    "df_latest = df_latest.rename(columns={'NumberValue': 'Most_Recent_BMI', 'EventDate': 'BMI_Date'})\n",
    "df_latest = df_latest.drop(\"CTV3TermText\",1)\n",
    "df_latest = df_latest[['PatientId', '1st_SMI_Diagnosis', 'Most_Recent_BMI', 'BMI_Date']]\n",
    "df_latest"
   ]
  },
  {
   "cell_type": "code",
   "execution_count": null,
   "metadata": {
    "collapsed": false,
    "deletable": true,
    "editable": true
   },
   "outputs": [],
   "source": [
    "#Merge 'df_first' and 'df_latest'\n",
    "\n",
    "df_bmi_merge = df_first.merge(df_latest, on =[\"PatientId\", \"1st_SMI_Diagnosis\"], how = 'left')\n",
    "\n",
    "#Rename columns\n",
    "df_bmi_merge = df_bmi_merge.rename(columns={'BMI_Date_x': 'Baseline_BMI_Date', 'BMI_Date_y': 'MostRecent_BMI_Date'})\n",
    "df_bmi_merge"
   ]
  },
  {
   "cell_type": "markdown",
   "metadata": {
    "deletable": true,
    "editable": true
   },
   "source": [
    "Adding a column for years between 1st and latest diagnosis"
   ]
  },
  {
   "cell_type": "code",
   "execution_count": null,
   "metadata": {
    "collapsed": false,
    "deletable": true,
    "editable": true
   },
   "outputs": [],
   "source": [
    "\n",
    "bmi_years_copy = df_bmi_merge.copy()\n",
    "\n",
    "#Convert both dates to a year and then subtract (don't include zero year values)\n",
    "bmi_years_copy['Baseline_BMI_Date'] = bmi_years_copy['Baseline_BMI_Date'].dt.year\n",
    "bmi_years_copy['MostRecent_BMI_Date'] = bmi_years_copy['MostRecent_BMI_Date'].dt.year\n",
    "bmi_years_copy['Years_Difference'] = (bmi_years_copy['MostRecent_BMI_Date'] - bmi_years_copy['Baseline_BMI_Date'])\n",
    "bmi_years_copy['Years_Difference'] = bmi_years_copy['Years_Difference'][bmi_years_copy['Years_Difference']!=0]\n",
    "\n",
    "#Adding a column for change in BMI between 1st and latest diagnosis\n",
    "bmi_years_copy['BMI_difference'] = (bmi_years_copy['Most_Recent_BMI'] - bmi_years_copy['Baseline_BMI'])\n",
    "\n",
    "#Change in BMI/year\n",
    "bmi_years_copy['BMI_change_PerYear'] = (bmi_years_copy['BMI_difference'] / bmi_years_copy['Years_Difference'])\n",
    "\n",
    "bmi_change = bmi_years_copy.copy()\n",
    "bmi_change"
   ]
  },
  {
   "cell_type": "code",
   "execution_count": null,
   "metadata": {
    "collapsed": false,
    "deletable": true,
    "editable": true
   },
   "outputs": [],
   "source": [
    "bmi_change = bmi_change[['PatientId','BMI_change_PerYear']]\n",
    "\n",
    "df_bmi = df_bmi_merge.merge(bmi_change, on =[\"PatientId\"], how = 'left')\n",
    "\n",
    "df_bmi"
   ]
  },
  {
   "cell_type": "code",
   "execution_count": null,
   "metadata": {
    "collapsed": false,
    "deletable": true,
    "editable": true
   },
   "outputs": [],
   "source": [
    "#Checking that zeros removed\n",
    "\n",
    "sum(df_bmi['Baseline_BMI'] == 0)"
   ]
  },
  {
   "cell_type": "code",
   "execution_count": null,
   "metadata": {
    "collapsed": false,
    "deletable": true,
    "editable": true
   },
   "outputs": [],
   "source": [
    "#Checking that zeros removed\n",
    "\n",
    "sum(df_bmi['Most_Recent_BMI'] == 0)"
   ]
  },
  {
   "cell_type": "code",
   "execution_count": null,
   "metadata": {
    "collapsed": false,
    "deletable": true,
    "editable": true
   },
   "outputs": [],
   "source": [
    "#Merge 'df_bmi_merge' and 'mean_bmi'\n",
    "\n",
    "bmi_merge = df_bmi.merge(mean_bmi, on =[\"PatientId\"], how = 'left')\n",
    "bmi_merge"
   ]
  },
  {
   "cell_type": "code",
   "execution_count": null,
   "metadata": {
    "collapsed": false,
    "deletable": true,
    "editable": true
   },
   "outputs": [],
   "source": [
    "#Export 'bmi_merge' as Excel File ('Part3_bmi_summary_data.csv')\n",
    "\n",
    "from pandas import ExcelWriter\n",
    "\n",
    "bmi_merge.to_csv('Part3_bmi_summary_data.csv', sep=',')"
   ]
  },
  {
   "cell_type": "markdown",
   "metadata": {
    "deletable": true,
    "editable": true
   },
   "source": [
    "# Working out annual BMIs since diagnosis"
   ]
  },
  {
   "cell_type": "code",
   "execution_count": null,
   "metadata": {
    "collapsed": true,
    "deletable": true,
    "editable": true
   },
   "outputs": [],
   "source": [
    "#Create copy of df_working\n",
    "df_every_year = df_working.copy()\n",
    "\n",
    "#Convert full dates to year only\n",
    "df_every_year['EventDate'] = df_every_year['EventDate'].dt.year\n",
    "df_every_year['1st_SMI_Diagnosis'] = df_every_year['1st_SMI_Diagnosis'].dt.year"
   ]
  },
  {
   "cell_type": "code",
   "execution_count": null,
   "metadata": {
    "collapsed": false,
    "deletable": true,
    "editable": true
   },
   "outputs": [],
   "source": [
    "#Drop duplicate years, keeping only the first reading each year\n",
    "df_every_year = df_every_year.drop_duplicates(subset=['PatientId', 'EventDate'], keep = 'first')\n",
    "\n",
    "#Remove column\n",
    "df_every_year = df_every_year.drop(\"CTV3TermText\",1)\n",
    "df_every_year"
   ]
  },
  {
   "cell_type": "code",
   "execution_count": null,
   "metadata": {
    "collapsed": false,
    "deletable": true,
    "editable": true
   },
   "outputs": [],
   "source": [
    "#Adding 'years after diagnosis' column\n",
    "\n",
    "df_every_year['Yrs_after_diagnosis'] = df_every_year['EventDate'] - df_every_year['1st_SMI_Diagnosis']\n",
    "df_every_year = df_every_year[df_every_year['EventDate'] != 2087]\n",
    "df_every_year = df_every_year.drop_duplicates(subset=['PatientId', 'EventDate'], keep = 'first')\n",
    "df_every_year"
   ]
  },
  {
   "cell_type": "code",
   "execution_count": null,
   "metadata": {
    "collapsed": false,
    "deletable": true,
    "editable": true
   },
   "outputs": [],
   "source": [
    "#calculating how many patients have BMI records for each year\n",
    "\n",
    "summary_table = df_every_year.groupby('EventDate').count()\n",
    "list(summary_table)\n",
    "summary_table = summary_table['PatientId']\n",
    "summary_table"
   ]
  },
  {
   "cell_type": "code",
   "execution_count": null,
   "metadata": {
    "collapsed": false,
    "deletable": true,
    "editable": true
   },
   "outputs": [],
   "source": [
    "#Export summary_table to Excel ('Part3_BMIRecordsEachYear.csv')\n",
    "\n",
    "summary_table.to_csv('Part3_BMIRecordsEachYear.csv', sep=',')"
   ]
  },
  {
   "cell_type": "markdown",
   "metadata": {
    "collapsed": true,
    "deletable": true,
    "editable": true
   },
   "source": [
    "Pivoting Table to show BMI history for each patient"
   ]
  },
  {
   "cell_type": "code",
   "execution_count": null,
   "metadata": {
    "collapsed": false,
    "deletable": true,
    "editable": true
   },
   "outputs": [],
   "source": [
    "#Prepare data frame for pivoting\n",
    "\n",
    "df_bmi_pivprep = df_every_year[['PatientId', 'Yrs_after_diagnosis', 'NumberValue']]\n",
    "df_bmi_pivprep.rename(columns={'NumberValue': 'BMI', 'Yrs_after_diagnosis': 'Number of years after diagnosis'}, inplace=True)\n",
    "df_bmi_pivprep"
   ]
  },
  {
   "cell_type": "code",
   "execution_count": null,
   "metadata": {
    "collapsed": false,
    "deletable": true,
    "editable": true
   },
   "outputs": [],
   "source": [
    "BMI_pivoted = df_bmi_pivprep.pivot(index='PatientId', columns='Number of years after diagnosis').fillna('-')\n",
    "BMI_pivoted"
   ]
  },
  {
   "cell_type": "code",
   "execution_count": null,
   "metadata": {
    "collapsed": true,
    "deletable": true,
    "editable": true
   },
   "outputs": [],
   "source": [
    "#Export 'BMI_pivoted' to Excel File ('Part3_Annual_BMI_record.csv')\n",
    "\n",
    "BMI_pivoted.to_csv('Part3_Annual_BMI_record.csv', sep=',')"
   ]
  }
 ],
 "metadata": {
  "kernelspec": {
   "display_name": "Python 3",
   "language": "python",
   "name": "python3"
  },
  "language_info": {
   "codemirror_mode": {
    "name": "ipython",
    "version": 3
   },
   "file_extension": ".py",
   "mimetype": "text/x-python",
   "name": "python",
   "nbconvert_exporter": "python",
   "pygments_lexer": "ipython3",
   "version": "3.6.0"
  }
 },
 "nbformat": 4,
 "nbformat_minor": 2
}
