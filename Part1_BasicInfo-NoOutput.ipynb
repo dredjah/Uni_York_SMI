{
 "cells": [
  {
   "cell_type": "markdown",
   "metadata": {
    "deletable": true,
    "editable": true
   },
   "source": [
    "1) Combines data from 'Patient_Total.txt', 'AHSN_Final_Taylor_Registration_History_Total.txt, 'AddressHistory_Total.txt' and 'Ethnicity_Total.txt' into a merged dataframe for export to CSV ('Part1_basic_patient_info.csv').\n",
    "\n",
    "2) Creates a new CSV file ('uncombined_SMI.csv') to be used by 'Part2_SMIs.ipynb' - importanly, this csv contains a new column with the 'age of diagnosis' for each SMI."
   ]
  },
  {
   "cell_type": "code",
   "execution_count": null,
   "metadata": {
    "collapsed": false,
    "deletable": true,
    "editable": true
   },
   "outputs": [],
   "source": [
    "import os\n",
    "os.listdir()"
   ]
  },
  {
   "cell_type": "code",
   "execution_count": null,
   "metadata": {
    "collapsed": true,
    "deletable": true,
    "editable": true
   },
   "outputs": [],
   "source": [
    "import pandas as pd\n",
    "import numpy as np\n",
    "import re"
   ]
  },
  {
   "cell_type": "markdown",
   "metadata": {
    "deletable": true,
    "editable": true
   },
   "source": [
    "# DF: Basic info"
   ]
  },
  {
   "cell_type": "code",
   "execution_count": null,
   "metadata": {
    "collapsed": false,
    "deletable": true,
    "editable": true,
    "scrolled": true
   },
   "outputs": [],
   "source": [
    "#Read-in file\n",
    "\n",
    "df = pd.read_csv(\"AHSN_Final_Taylor_Patient_Total.txt\", sep ='|') #RENAME FILE\n",
    "print(df.count())\n",
    "df.head(10)\n"
   ]
  },
  {
   "cell_type": "markdown",
   "metadata": {
    "deletable": true,
    "editable": true
   },
   "source": [
    "Number of unique patients in \"AHSN_Final_Taylor_Patient_Total.txt\""
   ]
  },
  {
   "cell_type": "code",
   "execution_count": null,
   "metadata": {
    "collapsed": false,
    "deletable": true,
    "editable": true
   },
   "outputs": [],
   "source": [
    "len(set(df[\"PatientId\"]))"
   ]
  },
  {
   "cell_type": "code",
   "execution_count": null,
   "metadata": {
    "collapsed": false,
    "deletable": true,
    "editable": true
   },
   "outputs": [],
   "source": [
    "DOD = list(df[\"DateOfDeath\"])\n",
    "DOB = list(df[\"DateOfBirth\"])"
   ]
  },
  {
   "cell_type": "markdown",
   "metadata": {
    "deletable": true,
    "editable": true
   },
   "source": [
    "Adding age of death"
   ]
  },
  {
   "cell_type": "code",
   "execution_count": null,
   "metadata": {
    "collapsed": false,
    "deletable": true,
    "editable": true
   },
   "outputs": [],
   "source": [
    "#Create list with age at which patients have died\n",
    "\n",
    "import datetime as dt\n",
    "from dateutil import parser\n",
    "\n",
    "list_age_death = []\n",
    "\n",
    "\n",
    "for f, b in zip(DOD, DOB):\n",
    "    try:\n",
    "        days_at_death = parser.parse(f) - parser.parse(b)\n",
    "        years_at_death = int((days_at_death.days)/365)\n",
    "        list_age_death.append(years_at_death)\n",
    "    except:\n",
    "        list_age_death.append(\"-\")\n",
    "        continue\n",
    "   \n",
    "        \n",
    "    \n",
    "print(len(list_age_death))\n",
    "#age_at_death = parser.parse(DOD) - parser.parse(DOB)\n",
    "\n"
   ]
  },
  {
   "cell_type": "code",
   "execution_count": null,
   "metadata": {
    "collapsed": false,
    "deletable": true,
    "editable": true
   },
   "outputs": [],
   "source": [
    "#Add 'Age_at_death' column\n",
    "\n",
    "df[\"Age_at_Death\"]=list_age_death\n",
    "\n",
    "df.head(11)"
   ]
  },
  {
   "cell_type": "code",
   "execution_count": null,
   "metadata": {
    "collapsed": false,
    "deletable": true,
    "editable": true
   },
   "outputs": [],
   "source": [
    "#Read-in 'practice ID' and 'registration date'\n",
    "\n",
    "#Read-in file\n",
    "reg_info = pd.read_csv('AHSN_Final_Taylor_Registration_History_Total.txt', sep ='|')\n",
    "\n",
    "#Select columns\n",
    "reg_info = reg_info[['PatientId', 'PracticeId', 'RegistrationDate']]\n",
    "\n",
    "#Sort by 'PatientId', then 'Registration date'\n",
    "reg_info = reg_info.sort_values(by=[\"PatientId\",\"RegistrationDate\",])\n",
    "\n",
    "#Keep only the most recent record for each patient\n",
    "reg_info = reg_info.drop_duplicates(subset=['PatientId'], keep = 'last')\n",
    "reg_info"
   ]
  },
  {
   "cell_type": "markdown",
   "metadata": {
    "deletable": true,
    "editable": true
   },
   "source": [
    "# DF2: SMI info"
   ]
  },
  {
   "cell_type": "code",
   "execution_count": null,
   "metadata": {
    "collapsed": false,
    "deletable": true,
    "editable": true
   },
   "outputs": [],
   "source": [
    "#Read in \"AHSN_Final_Taylor_Diagnostic_Codes_Total.txt\",\n",
    "\n",
    "df2 = pd.read_csv(\"AHSN_Final_Taylor_Diagnostic_Codes_Total.txt\", sep ='|') #RENAME FILE\n",
    "\n",
    "#Drop 'EventId\n",
    "df2 = df2.drop(\"EventId\",1)\n",
    "\n",
    "#Rename columns\n",
    "df2.rename(columns={'EventDate': 'Date_Of_Diagnosis', 'CTV3TermText\\t\\t': 'CT3TermText'}, inplace=True)\n",
    "\n",
    "#Print the total number of SMI records\n",
    "print(df2.count())\n",
    "\n",
    "#Print dataframe(first 11 rows)\n",
    "df2.head(11)"
   ]
  },
  {
   "cell_type": "markdown",
   "metadata": {
    "deletable": true,
    "editable": true
   },
   "source": [
    "Unique patients"
   ]
  },
  {
   "cell_type": "code",
   "execution_count": null,
   "metadata": {
    "collapsed": false,
    "deletable": true,
    "editable": true
   },
   "outputs": [],
   "source": [
    "#Print number of unique patients\n",
    "\n",
    "len(set(df2[\"PatientId\"]))"
   ]
  },
  {
   "cell_type": "markdown",
   "metadata": {
    "deletable": true,
    "editable": true
   },
   "source": [
    "Removing SMI duplicates (use only first date of diagnosis) - except where 1st date is 1900, where use 2nd."
   ]
  },
  {
   "cell_type": "code",
   "execution_count": null,
   "metadata": {
    "collapsed": false,
    "deletable": true,
    "editable": true
   },
   "outputs": [],
   "source": [
    "#Converting 1900s to NaNs in Data Frame\n",
    "\n",
    "def nines_to_nans(date):\n",
    "    if date == \"1900-01-01\":\n",
    "        return \"NaN\"\n",
    "    else:\n",
    "        return date\n",
    "\n",
    "df2[\"Date_Of_Diagnosis\"] = df2[\"Date_Of_Diagnosis\"].apply(nines_to_nans)\n",
    "\n",
    "df2"
   ]
  },
  {
   "cell_type": "code",
   "execution_count": null,
   "metadata": {
    "collapsed": false,
    "deletable": true,
    "editable": true
   },
   "outputs": [],
   "source": [
    "#Sort dataframe by PatientId, then Date_Of_Diagnosis, then CTV3Code\n",
    "\n",
    "#Remove duplicates, based on PatientId and CTV3Code - keep only the most recent StartDate\n",
    "\n",
    "df2 = df2.sort_values(by=['PatientId','Date_Of_Diagnosis', 'CTV3Code'], na_position = 'last').drop_duplicates(subset=['PatientId', 'CTV3Code'], keep = 'first')\n",
    "\n",
    "df2"
   ]
  },
  {
   "cell_type": "code",
   "execution_count": null,
   "metadata": {
    "collapsed": false,
    "deletable": true,
    "editable": true
   },
   "outputs": [],
   "source": [
    "#Check there are still the same number of unique patients\n",
    "\n",
    "print(\"Unique patients: \", len(set(df2[\"PatientId\"])))"
   ]
  },
  {
   "cell_type": "code",
   "execution_count": null,
   "metadata": {
    "collapsed": false,
    "deletable": true,
    "editable": true
   },
   "outputs": [],
   "source": [
    "#Now data frame reformatted, convert NaNs back to 1900\n",
    "\n",
    "def nans_to_nines(date):\n",
    "    if date == \"NaN\":\n",
    "        return \"1900-01-01\" \n",
    "    else:\n",
    "        return date\n",
    "\n",
    "df2[\"Date_Of_Diagnosis\"] = df2[\"Date_Of_Diagnosis\"].apply(nans_to_nines)\n",
    "\n",
    "df2"
   ]
  },
  {
   "cell_type": "markdown",
   "metadata": {
    "deletable": true,
    "editable": true
   },
   "source": [
    "List and count of all \"SMIs\" and export to CSV file"
   ]
  },
  {
   "cell_type": "code",
   "execution_count": null,
   "metadata": {
    "collapsed": false,
    "deletable": true,
    "editable": true
   },
   "outputs": [],
   "source": [
    "unique_smis = set(df2[\"CT3TermText\"])\n",
    "\n",
    "unique_smis = list(unique_smis)\n",
    "\n",
    "unique_smis_df = pd.DataFrame(unique_smis)\n",
    "\n",
    "from pandas import ExcelWriter\n",
    "\n",
    "unique_smis_df.to_csv('unique_smis.csv', sep=',')"
   ]
  },
  {
   "cell_type": "markdown",
   "metadata": {
    "deletable": true,
    "editable": true
   },
   "source": [
    "Merging dataframes to add 'age of diagnosis"
   ]
  },
  {
   "cell_type": "code",
   "execution_count": null,
   "metadata": {
    "collapsed": false,
    "deletable": true,
    "editable": true
   },
   "outputs": [],
   "source": [
    "#Merge 'basic info' with 'SMI info'\n",
    "\n",
    "df_merge_1 = df.merge(df2, on =[\"PatientId\"])\n",
    "\n",
    "#Print total number of patient records\n",
    "print(df_merge_1.count())\n",
    "\n",
    "#Print first 20 rows\n",
    "df_merge_1.head(20)"
   ]
  },
  {
   "cell_type": "markdown",
   "metadata": {
    "deletable": true,
    "editable": true
   },
   "source": [
    "Unique patients"
   ]
  },
  {
   "cell_type": "code",
   "execution_count": null,
   "metadata": {
    "collapsed": false,
    "deletable": true,
    "editable": true
   },
   "outputs": [],
   "source": [
    "len(set(df_merge_1[\"PatientId\"]))"
   ]
  },
  {
   "cell_type": "markdown",
   "metadata": {
    "deletable": true,
    "editable": true
   },
   "source": [
    "Adding age at which diagnosed"
   ]
  },
  {
   "cell_type": "code",
   "execution_count": null,
   "metadata": {
    "collapsed": false,
    "deletable": true,
    "editable": true
   },
   "outputs": [],
   "source": [
    "#Caculating 'age at diagnosis' and constructing a list\n",
    "list_age_diagnosis = []\n",
    "\n",
    "date_diagnosed = list(df_merge_1['Date_Of_Diagnosis'])\n",
    "date_born = list(df_merge_1['DateOfBirth'])\n",
    "\n",
    "for f, b in zip(date_diagnosed, date_born):\n",
    "    age_diagnosed_days = parser.parse(f) - parser.parse(b)\n",
    "    age_diagnosed_years = int((age_diagnosed_days.days)/365)\n",
    "    list_age_diagnosis.append(age_diagnosed_years)\n",
    "   \n"
   ]
  },
  {
   "cell_type": "code",
   "execution_count": null,
   "metadata": {
    "collapsed": false,
    "deletable": true,
    "editable": true
   },
   "outputs": [],
   "source": [
    "#Adding \"Age_SMI_Diagnosed\" to Data Frame\n",
    "\n",
    "df_merge_1[\"Age_SMI_Diagnosed\"]=list_age_diagnosis\n",
    "df_merge_1.head(25)"
   ]
  },
  {
   "cell_type": "code",
   "execution_count": null,
   "metadata": {
    "collapsed": false,
    "deletable": true,
    "editable": true,
    "scrolled": true
   },
   "outputs": [],
   "source": [
    "#Converting ages below 1 (due to presence of 1900 diagnosis dates) in 'Age_SMI_Diagnosed' to '-9'\n",
    "\n",
    "def minus_9(age):\n",
    "    if age < 1:\n",
    "        return int(\"-9\")\n",
    "    else: \n",
    "        return age\n",
    "\n",
    "df_merge_1[\"Age_SMI_Diagnosed\"] = df_merge_1[\"Age_SMI_Diagnosed\"].apply(minus_9)\n",
    "\n",
    "df_merge_1.head(25)"
   ]
  },
  {
   "cell_type": "code",
   "execution_count": null,
   "metadata": {
    "collapsed": true,
    "deletable": true,
    "editable": true
   },
   "outputs": [],
   "source": [
    "#Create Excel File (CSV) from df_merge_1\n",
    "\n",
    "from pandas import ExcelWriter\n",
    "\n",
    "df_merge_1.to_csv('uncombined_SMI', sep=',')"
   ]
  },
  {
   "cell_type": "markdown",
   "metadata": {
    "deletable": true,
    "editable": true
   },
   "source": [
    "# DF3: IMD Rank"
   ]
  },
  {
   "cell_type": "code",
   "execution_count": null,
   "metadata": {
    "collapsed": false,
    "deletable": true,
    "editable": true
   },
   "outputs": [],
   "source": [
    "#Load in \"AHSN_Final_Taylor_AddressHistory_Total.txt\" and print length\n",
    "\n",
    "df3 = pd.read_csv(\"AHSN_Final_Taylor_AddressHistory_Total.txt\", sep ='|') #RENAME FILE\n",
    "print(df3.count())\n",
    "print(\"Length_1:\", len(set(df3[\"PatientId\"])))\n",
    "\n",
    "#Remove patients with no IMDRank\n",
    "df3 = df3.dropna(subset=[\"IMDRank\"])\n",
    "\n",
    "#Sort dataframe by PatientId and then StartDate\n",
    "df3 = df3.sort_values(by=[\"PatientId\",\"StartDate\"], na_position = 'first')\n",
    "print(\"Length_2:\", len(set(df3[\"PatientId\"])))\n",
    "\n",
    "#Remove duplicates, based on PatientId - keep only the most recent StartDate\n",
    "df3 = df3.drop_duplicates('PatientId', keep = 'last')\n",
    "print(\"Length_3:\", len(set(df3[\"PatientId\"])))\n",
    "\n",
    "df3\n"
   ]
  },
  {
   "cell_type": "markdown",
   "metadata": {
    "deletable": true,
    "editable": true
   },
   "source": [
    "Unique patients"
   ]
  },
  {
   "cell_type": "code",
   "execution_count": null,
   "metadata": {
    "collapsed": false,
    "deletable": true,
    "editable": true
   },
   "outputs": [],
   "source": [
    "len(set(df3[\"PatientId\"]))"
   ]
  },
  {
   "cell_type": "markdown",
   "metadata": {
    "deletable": true,
    "editable": true
   },
   "source": [
    "# DF4"
   ]
  },
  {
   "cell_type": "code",
   "execution_count": null,
   "metadata": {
    "collapsed": false,
    "deletable": true,
    "editable": true
   },
   "outputs": [],
   "source": [
    "df4 = pd.read_csv(\"AHSN_Final_Taylor_Ethnicity_Total.txt\", sep ='|') \n",
    "print(df4.count())\n",
    "df4.head(51)"
   ]
  },
  {
   "cell_type": "code",
   "execution_count": null,
   "metadata": {
    "collapsed": false,
    "deletable": true,
    "editable": true
   },
   "outputs": [],
   "source": [
    "#Rename column\n",
    "\n",
    "df4.rename(columns={'CTV3TermText\\t\\t': 'Ethnic_origin'}, inplace=True)\n",
    "df4"
   ]
  },
  {
   "cell_type": "code",
   "execution_count": null,
   "metadata": {
    "collapsed": false,
    "deletable": true,
    "editable": true,
    "scrolled": false
   },
   "outputs": [],
   "source": [
    "#Removing \"Ethnic groups (census) NOS\\t\\t\"\n",
    "\n",
    "df_t = df4[df4.Ethnic_origin != \"Ethnic groups (census) NOS\\t\\t\"]\n",
    "\n",
    "#Removing duplicated entries ('patientId'), keeping only most recent entries\n",
    "\n",
    "df_t = df_t.drop_duplicates('PatientId', keep = 'last')\n",
    "\n",
    "#Dropping 'EventDate' column\n",
    "\n",
    "df_t = df_t.drop(\"EventDate\",1)\n",
    "\n",
    "print(df_t.count())\n",
    "print(\"Unique:\", len(set(df_t[\"PatientId\"])))\n",
    "\n",
    "\n",
    "\n",
    "\n"
   ]
  },
  {
   "cell_type": "code",
   "execution_count": null,
   "metadata": {
    "collapsed": false,
    "deletable": true,
    "editable": true
   },
   "outputs": [],
   "source": [
    "#Remove unwanted characters\n",
    "\n",
    "df_t['Ethnic_origin'] = df_t['Ethnic_origin'].map(lambda x: re.sub(r'\\t', '', x))\n",
    "df_t"
   ]
  },
  {
   "cell_type": "markdown",
   "metadata": {
    "deletable": true,
    "editable": true
   },
   "source": [
    "Add column with 'categorised' ethnicities"
   ]
  },
  {
   "cell_type": "code",
   "execution_count": null,
   "metadata": {
    "collapsed": false,
    "deletable": true,
    "editable": true
   },
   "outputs": [],
   "source": [
    "#Read in file where ethnicities have been categorised\n",
    "\n",
    "ethnicity_cat = pd.read_csv('categorised_ethnicities_1.csv')\n",
    "ethnicity_cat\n",
    "\n",
    "#Remove unwanted characters \n",
    "ethnicity_cat['ResearchOne categories'] = ethnicity_cat['ResearchOne categories'].map(lambda x: re.sub(r'\\t', '', x))\n",
    "ethnicity_cat\n",
    "\n",
    "#Create list of ethnicities for Cat1 - White\n",
    "white = ethnicity_cat.ix[ethnicity_cat['ONS cats'] == 1]\n",
    "white_list = list(white['ResearchOne categories'])\n",
    "\n",
    "#Create list of ethnicities for Cat2 - Mixed\n",
    "mixed = ethnicity_cat.ix[ethnicity_cat['ONS cats'] == 2]\n",
    "mixed_list = list(mixed['ResearchOne categories'])\n",
    "\n",
    "#Create list of ethnicities for Cat3 - Asian\n",
    "asian = ethnicity_cat.ix[ethnicity_cat['ONS cats'] == 3]\n",
    "asian_list = list(asian['ResearchOne categories'])\n",
    "\n",
    "#Create list of ethnicities for Cat4 - Black\n",
    "black = ethnicity_cat.ix[ethnicity_cat['ONS cats'] == 4]\n",
    "black_list = list(black['ResearchOne categories'])\n",
    "\n",
    "#Create list of ethnicities for Cat5 - Other\n",
    "other = ethnicity_cat.ix[ethnicity_cat['ONS cats'] == 5]\n",
    "other_list = list(other['ResearchOne categories'])\n",
    "\n",
    "#Create list of ethnicities for Cat6 - Unspecified/unkown\n",
    "unkown = ethnicity_cat.ix[ethnicity_cat['ONS cats'] == 6]\n",
    "unkown_list = list(unkown['ResearchOne categories'])\n",
    "\n",
    "#Create function to sort ethnicities (giving ONS cat number)\n",
    "\n",
    "def ethnicity_category_sorting_num(x):\n",
    "    if x in white_list:\n",
    "        return \"1\"\n",
    "    elif x in mixed_list:\n",
    "        return \"2\"\n",
    "    elif x in asian_list:\n",
    "        return \"3\"\n",
    "    elif x in black_list:\n",
    "        return \"4\"\n",
    "    elif x in other_list:\n",
    "        return \"5\"\n",
    "    elif x in unkown_list:\n",
    "        return \"6\"\n",
    "    \n",
    "#Create function to sort ethnicities (giving description)\n",
    "\n",
    "def ethnicity_category_sorting_descr(x):\n",
    "    if x in white_list:\n",
    "        return \"White\"\n",
    "    elif x in mixed_list:\n",
    "        return \"Mixed/Multiple ethnic groups\"\n",
    "    elif x in asian_list:\n",
    "        return \"Asian/Asian British\"\n",
    "    elif x in black_list:\n",
    "        return \"Black/ African/Caribbean/Black British\"\n",
    "    elif x in other_list:\n",
    "        return \"Other ethnic group\"\n",
    "    elif x in unkown_list:\n",
    "        return \"Not specified / not given\"\n",
    "\n"
   ]
  },
  {
   "cell_type": "code",
   "execution_count": null,
   "metadata": {
    "collapsed": false,
    "deletable": true,
    "editable": true
   },
   "outputs": [],
   "source": [
    "#Call functions to add 2 new rows\n",
    "\n",
    "df_t['Ethnicity_Grouped_ONS-Code'] = df_t['Ethnic_origin'].apply(ethnicity_category_sorting_num)\n",
    "df_t['Ethnicity_Grouped_ONS-Description'] = df_t['Ethnic_origin'].apply(ethnicity_category_sorting_descr)\n",
    "df_t\n"
   ]
  },
  {
   "cell_type": "code",
   "execution_count": null,
   "metadata": {
    "collapsed": false,
    "deletable": true,
    "editable": true
   },
   "outputs": [],
   "source": [
    "#Keep only 'Grouped Etnicity' column\n",
    "\n",
    "df_tt = df_t[['PatientId', 'Ethnicity_Grouped_ONS-Description']]\n",
    "df_tt"
   ]
  },
  {
   "cell_type": "markdown",
   "metadata": {
    "deletable": true,
    "editable": true
   },
   "source": [
    "# Merging DFs"
   ]
  },
  {
   "cell_type": "code",
   "execution_count": null,
   "metadata": {
    "collapsed": false,
    "deletable": true,
    "editable": true
   },
   "outputs": [],
   "source": [
    "#Merge 'Basic Info' (df) with 'Ethnicity Info' (df_tt)\n",
    "\n",
    "m_df = df.merge(df_tt, on =[\"PatientId\"], how = 'left')\n",
    "m_df"
   ]
  },
  {
   "cell_type": "code",
   "execution_count": null,
   "metadata": {
    "collapsed": false,
    "deletable": true,
    "editable": true
   },
   "outputs": [],
   "source": [
    "#Merge 'above data frame' with 'IMD rank Info'\n",
    "\n",
    "m_df1 = m_df.merge(df3, on =[\"PatientId\"], how = 'left')\n",
    "m_df1"
   ]
  },
  {
   "cell_type": "code",
   "execution_count": null,
   "metadata": {
    "collapsed": false,
    "deletable": true,
    "editable": true
   },
   "outputs": [],
   "source": [
    "#Merge 'above data frame' with 'Practice registration Info'\n",
    "\n",
    "m_df2 = m_df1.merge(reg_info, on =[\"PatientId\"], how = 'left')\n",
    "m_df2\n",
    "\n"
   ]
  },
  {
   "cell_type": "code",
   "execution_count": null,
   "metadata": {
    "collapsed": false,
    "deletable": true,
    "editable": true
   },
   "outputs": [],
   "source": [
    "#Print number of Patients in 'm_df2'\n",
    "\n",
    "len(set(m_df2['PatientId']))"
   ]
  },
  {
   "cell_type": "code",
   "execution_count": null,
   "metadata": {
    "collapsed": false,
    "deletable": true,
    "editable": true
   },
   "outputs": [],
   "source": [
    "#Modifying so that only patients with SMI included\n",
    "\n",
    "smi_patients = pd.read_csv('unique_smi_PatientList.csv')\n",
    "smi_patients = smi_patients.drop(\"Unnamed: 0\",1)\n",
    "smi_patients = smi_patients.drop(\"Age_SMI_Diagnosed\",1)\n",
    "smi_patients"
   ]
  },
  {
   "cell_type": "code",
   "execution_count": null,
   "metadata": {
    "collapsed": false,
    "deletable": true,
    "editable": true
   },
   "outputs": [],
   "source": [
    "basic_info = smi_patients.merge(m_df2, on =[\"PatientId\"], how = 'left')\n",
    "basic_info"
   ]
  },
  {
   "cell_type": "markdown",
   "metadata": {
    "deletable": true,
    "editable": true
   },
   "source": [
    "# Exporting dataframe to CSV"
   ]
  },
  {
   "cell_type": "code",
   "execution_count": null,
   "metadata": {
    "collapsed": false,
    "deletable": true,
    "editable": true
   },
   "outputs": [],
   "source": [
    "from pandas import ExcelWriter\n",
    "\n",
    "basic_info.to_csv('Part1_basic_patient_info.csv', sep=',')"
   ]
  },
  {
   "cell_type": "markdown",
   "metadata": {
    "deletable": true,
    "editable": true
   },
   "source": [
    "Total number of patient records"
   ]
  },
  {
   "cell_type": "code",
   "execution_count": null,
   "metadata": {
    "collapsed": false,
    "deletable": true,
    "editable": true
   },
   "outputs": [],
   "source": [
    "patient_ids = basic_info[\"PatientId\"]\n",
    "\n",
    "print(patient_ids.count())"
   ]
  },
  {
   "cell_type": "markdown",
   "metadata": {
    "deletable": true,
    "editable": true
   },
   "source": [
    "Number of unique patients"
   ]
  },
  {
   "cell_type": "code",
   "execution_count": null,
   "metadata": {
    "collapsed": false,
    "deletable": true,
    "editable": true
   },
   "outputs": [],
   "source": [
    "set_patient_ids = set(patient_ids)\n",
    "\n",
    "print(len(set_patient_ids))"
   ]
  }
 ],
 "metadata": {
  "kernelspec": {
   "display_name": "Python 3",
   "language": "python",
   "name": "python3"
  },
  "language_info": {
   "codemirror_mode": {
    "name": "ipython",
    "version": 3
   },
   "file_extension": ".py",
   "mimetype": "text/x-python",
   "name": "python",
   "nbconvert_exporter": "python",
   "pygments_lexer": "ipython3",
   "version": "3.6.0"
  }
 },
 "nbformat": 4,
 "nbformat_minor": 2
}
