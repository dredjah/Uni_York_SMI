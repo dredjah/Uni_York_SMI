{
 "cells": [
  {
   "cell_type": "markdown",
   "metadata": {
    "deletable": true,
    "editable": true
   },
   "source": [
    "# Import all dataframes for merging"
   ]
  },
  {
   "cell_type": "code",
   "execution_count": null,
   "metadata": {
    "collapsed": false,
    "deletable": true,
    "editable": true
   },
   "outputs": [],
   "source": [
    "import os\n",
    "os.listdir()"
   ]
  },
  {
   "cell_type": "code",
   "execution_count": null,
   "metadata": {
    "collapsed": true,
    "deletable": true,
    "editable": true
   },
   "outputs": [],
   "source": [
    "import pandas as pd\n",
    "import numpy as np"
   ]
  },
  {
   "cell_type": "code",
   "execution_count": null,
   "metadata": {
    "collapsed": false,
    "deletable": true,
    "editable": true
   },
   "outputs": [],
   "source": [
    "#Part1_basic_patient_info\n",
    "\n",
    "basic = pd.read_csv('Part1_basic_patient_info.csv')\n",
    "basic = basic.drop(\"Unnamed: 0\",1)\n",
    "basic"
   ]
  },
  {
   "cell_type": "code",
   "execution_count": null,
   "metadata": {
    "collapsed": false,
    "deletable": true,
    "editable": true
   },
   "outputs": [],
   "source": [
    "#Part2_SMI\n",
    "\n",
    "smi = pd.read_csv('Part2_SMI_data_SMIs_Grouped.csv')\n",
    "smi = smi.drop(\"Unnamed: 0\",1)\n",
    "smi"
   ]
  },
  {
   "cell_type": "code",
   "execution_count": null,
   "metadata": {
    "collapsed": false,
    "deletable": true,
    "editable": true
   },
   "outputs": [],
   "source": [
    "#Part3_BMI\n",
    "\n",
    "bmi = pd.read_csv('Part3_bmi_summary_data.csv')\n",
    "bmi = bmi[['PatientId', 'Baseline_BMI', 'Most_Recent_BMI', 'BMI_change_PerYear', 'Mean_BMI',]]\n",
    "bmi"
   ]
  },
  {
   "cell_type": "code",
   "execution_count": null,
   "metadata": {
    "collapsed": false,
    "deletable": true,
    "editable": true
   },
   "outputs": [],
   "source": [
    "#Part4_Appointment History\n",
    "\n",
    "appointments = pd.read_csv('Part4_Appointment_History.csv')\n",
    "appointments = appointments[['PatientId', 'Appointments per year']]\n",
    "#appointments = appointments.drop_duplicates()\n",
    "appointments"
   ]
  },
  {
   "cell_type": "code",
   "execution_count": null,
   "metadata": {
    "collapsed": false,
    "deletable": true,
    "editable": true
   },
   "outputs": [],
   "source": [
    "#Creating master dataset\n",
    "\n",
    "master = basic.merge(appointments,on='PatientId', how = 'left').merge(bmi,on='PatientId', how = 'left').merge(smi,on='PatientId', how = 'left')\n",
    "master"
   ]
  },
  {
   "cell_type": "code",
   "execution_count": null,
   "metadata": {
    "collapsed": true,
    "deletable": true,
    "editable": true
   },
   "outputs": [],
   "source": [
    "from pandas import ExcelWriter\n",
    "\n",
    "master.to_csv('master_data.csv', sep=',')"
   ]
  }
 ],
 "metadata": {
  "kernelspec": {
   "display_name": "Python 3",
   "language": "python",
   "name": "python3"
  },
  "language_info": {
   "codemirror_mode": {
    "name": "ipython",
    "version": 3
   },
   "file_extension": ".py",
   "mimetype": "text/x-python",
   "name": "python",
   "nbconvert_exporter": "python",
   "pygments_lexer": "ipython3",
   "version": "3.6.0"
  }
 },
 "nbformat": 4,
 "nbformat_minor": 2
}
