{
 "cells": [
  {
   "cell_type": "code",
   "execution_count": null,
   "metadata": {
    "collapsed": false,
    "deletable": true,
    "editable": true
   },
   "outputs": [],
   "source": [
    "import os\n",
    "os.listdir()"
   ]
  },
  {
   "cell_type": "code",
   "execution_count": null,
   "metadata": {
    "collapsed": true,
    "deletable": true,
    "editable": true
   },
   "outputs": [],
   "source": [
    "import pandas as pd\n",
    "import numpy as np\n",
    "import datetime as dt\n",
    "from dateutil import parser"
   ]
  },
  {
   "cell_type": "code",
   "execution_count": null,
   "metadata": {
    "collapsed": false,
    "deletable": true,
    "editable": true
   },
   "outputs": [],
   "source": [
    "#Load in appointment data\n",
    "\n",
    "appointments = pd.read_csv('AHSN_Final_Taylor_Appointments_Total.csv', sep ='|')\n",
    "appointments"
   ]
  },
  {
   "cell_type": "code",
   "execution_count": null,
   "metadata": {
    "collapsed": false,
    "deletable": true,
    "editable": true
   },
   "outputs": [],
   "source": [
    "#Keep relevant columns\n",
    "\n",
    "appointments = appointments[['PatientId', 'DtStart', 'AppointmentStatus']]\n",
    "appointments = appointments.sort_values(by=['PatientId', 'DtStart'])"
   ]
  },
  {
   "cell_type": "code",
   "execution_count": null,
   "metadata": {
    "collapsed": false,
    "deletable": true,
    "editable": true
   },
   "outputs": [],
   "source": [
    "#Print number of appointment records\n",
    "\n",
    "len(appointments)"
   ]
  },
  {
   "cell_type": "code",
   "execution_count": null,
   "metadata": {
    "collapsed": false,
    "deletable": true,
    "editable": true
   },
   "outputs": [],
   "source": [
    "#Keep only records wher appointment status is 'finished'\n",
    "\n",
    "finished_appointments = appointments.ix[appointments['AppointmentStatus'] == 'Finished']\n",
    "finished_appointments.head(100)"
   ]
  },
  {
   "cell_type": "code",
   "execution_count": null,
   "metadata": {
    "collapsed": false,
    "deletable": true,
    "editable": true
   },
   "outputs": [],
   "source": [
    "#Load in date of first diagnosis\n",
    "\n",
    "first_diagnosis = pd.read_csv('first_diagnosis.csv')\n",
    "first_diagnosis = first_diagnosis[['PatientId', '1st_SMI_Diagnosis']]\n",
    "first_diagnosis"
   ]
  },
  {
   "cell_type": "code",
   "execution_count": null,
   "metadata": {
    "collapsed": false,
    "deletable": true,
    "editable": true
   },
   "outputs": [],
   "source": [
    "#Pulling in data about date of death\n",
    "\n",
    "death = pd.read_csv('all_data.csv')\n",
    "death = death[['PatientId','DateOfDeath']]\n",
    "death = death.drop_duplicates()\n",
    "death"
   ]
  },
  {
   "cell_type": "code",
   "execution_count": null,
   "metadata": {
    "collapsed": false,
    "deletable": true,
    "editable": true
   },
   "outputs": [],
   "source": [
    "#Merge first diagnosis with death date and appointment history (df_app)\n",
    "\n",
    "df_appointments = first_diagnosis.merge(death, on = 'PatientId', how = 'left').merge(finished_appointments, on='PatientId', how = 'left')\n",
    "df_appointments = df_appointments.sort_values(by=['PatientId', 'DtStart'])\n",
    "df_appointments"
   ]
  },
  {
   "cell_type": "code",
   "execution_count": null,
   "metadata": {
    "collapsed": false,
    "deletable": true,
    "editable": true
   },
   "outputs": [],
   "source": [
    "#Print number of unique patients in 'df_appointments'\n",
    "\n",
    "len(set(df_appointments['PatientId']))"
   ]
  },
  {
   "cell_type": "code",
   "execution_count": null,
   "metadata": {
    "collapsed": false,
    "deletable": true,
    "editable": true
   },
   "outputs": [],
   "source": [
    "#Drop NaNs in 'appointment status' column\n",
    "\n",
    "df_appointments_NoNaN = df_appointments.dropna(subset=[\"AppointmentStatus\"])\n",
    "df_appointments_NoNaN\n"
   ]
  },
  {
   "cell_type": "code",
   "execution_count": null,
   "metadata": {
    "collapsed": false,
    "deletable": true,
    "editable": true
   },
   "outputs": [],
   "source": [
    "#Convert dates to datetime objects\n",
    "\n",
    "df_appointments_NoNaN['DtStart'] = pd.to_datetime(df_appointments_NoNaN['DtStart'])\n",
    "df_appointments_NoNaN['1st_SMI_Diagnosis'] = pd.to_datetime(df_appointments_NoNaN['1st_SMI_Diagnosis'])\n",
    "df_appointments_NoNaN['DateOfDeath'] = pd.to_datetime(df_appointments_NoNaN['DateOfDeath'])\n",
    "df_appointments_NoNaN"
   ]
  },
  {
   "cell_type": "code",
   "execution_count": null,
   "metadata": {
    "collapsed": false,
    "deletable": true,
    "editable": true
   },
   "outputs": [],
   "source": [
    "#remove appointments before diagnosis\n",
    "\n",
    "df_working = df_appointments_NoNaN.ix[df_appointments['DtStart'] >= df_appointments['1st_SMI_Diagnosis']]\n"
   ]
  },
  {
   "cell_type": "code",
   "execution_count": null,
   "metadata": {
    "collapsed": false,
    "deletable": true,
    "editable": true
   },
   "outputs": [],
   "source": [
    "#remove appointments before 2016\n",
    "\n",
    "df_working = df_working.ix[df_appointments['DtStart'] <= '2016-01-01']"
   ]
  },
  {
   "cell_type": "code",
   "execution_count": null,
   "metadata": {
    "collapsed": false,
    "deletable": true,
    "editable": true
   },
   "outputs": [],
   "source": [
    "#Print number of patients still alive\n",
    "\n",
    "sum(df_working.DateOfDeath.isnull())"
   ]
  },
  {
   "cell_type": "code",
   "execution_count": null,
   "metadata": {
    "collapsed": false,
    "deletable": true,
    "editable": true
   },
   "outputs": [],
   "source": [
    "#Create new column for year of diagnosis\n",
    "df_working['YearOfDiagnosis'] = df_working['1st_SMI_Diagnosis'].dt.year\n",
    "\n",
    "#Create new column for year after diagnosis (i.e. first full year for which appointment history available after diagnosis)\n",
    "df_working['YearAfterDiagnosis'] = df_working['YearOfDiagnosis'] + 1\n",
    "df_working"
   ]
  },
  {
   "cell_type": "code",
   "execution_count": null,
   "metadata": {
    "collapsed": false,
    "deletable": true,
    "editable": true
   },
   "outputs": [],
   "source": [
    "#Create new dataframe including only patient if still alive (ie. Date of Death = NaT)\n",
    "\n",
    "df_working_1 = df_working.ix[df_working['DateOfDeath'].isnull()]\n",
    "df_working_1\n"
   ]
  },
  {
   "cell_type": "code",
   "execution_count": null,
   "metadata": {
    "collapsed": false,
    "deletable": true,
    "editable": true
   },
   "outputs": [],
   "source": [
    "#Replace 'Trues' in Null column with '2015'. I.e. last full year for which patient records are available\n",
    "\n",
    "df_working_1['IsNull'] = 2015\n",
    "df_working_1"
   ]
  },
  {
   "cell_type": "code",
   "execution_count": null,
   "metadata": {
    "collapsed": false,
    "deletable": true,
    "editable": true
   },
   "outputs": [],
   "source": [
    "#Create new dataframe including only patient that have died (ie. Date of Death = Datetime object)\n",
    "\n",
    "df_working_2 = df_working.ix[df_working['DateOfDeath'].notnull()]\n",
    "df_working_2"
   ]
  },
  {
   "cell_type": "code",
   "execution_count": null,
   "metadata": {
    "collapsed": false,
    "deletable": true,
    "editable": true
   },
   "outputs": [],
   "source": [
    "#Replace 'Falses' in Null column with 'Year of death'. Subtract 1, so that only data for last full year included.\n",
    "\n",
    "df_working_2['IsNull'] = (df_working_2['DateOfDeath'].dt.year-1)\n",
    "df_working_2"
   ]
  },
  {
   "cell_type": "code",
   "execution_count": null,
   "metadata": {
    "collapsed": false,
    "deletable": true,
    "editable": true
   },
   "outputs": [],
   "source": [
    "#Merge dataframes of 'living' and 'dead' patients\n",
    "df_working_merge = df_working_1.merge(df_working_2, how = 'outer')\n",
    "\n",
    "#Create new column (Enddate)\n",
    "df_working_merge['EndDate'] = df_working_merge['IsNull']\n",
    "df_working_merge"
   ]
  },
  {
   "cell_type": "code",
   "execution_count": null,
   "metadata": {
    "collapsed": false,
    "deletable": true,
    "editable": true
   },
   "outputs": [],
   "source": [
    "#Make sure patients only included where at least 1 full year of appointment history is available\n",
    "\n",
    "df_working_merge['Difference'] = (df_working_merge['EndDate'] - df_working_merge['YearAfterDiagnosis']) + 1\n",
    "df_current = df_working_merge.ix[df_working_merge['Difference'] >= 1]\n",
    "df_current\n",
    "\n"
   ]
  },
  {
   "cell_type": "code",
   "execution_count": null,
   "metadata": {
    "collapsed": false,
    "deletable": true,
    "editable": true
   },
   "outputs": [],
   "source": [
    "#Remove appointments outside of time window\n",
    "\n",
    "#Create new column containing appointment years \n",
    "\n",
    "df_current['Appointment_Year'] = df_current['DtStart'].dt.year\n",
    "df_current"
   ]
  },
  {
   "cell_type": "code",
   "execution_count": null,
   "metadata": {
    "collapsed": false,
    "deletable": true,
    "editable": true
   },
   "outputs": [],
   "source": [
    "df_current_mod = df_current.ix[df_current['Appointment_Year'] >= df_current['YearAfterDiagnosis']]\n",
    "df_current_mod"
   ]
  },
  {
   "cell_type": "code",
   "execution_count": null,
   "metadata": {
    "collapsed": false,
    "deletable": true,
    "editable": true
   },
   "outputs": [],
   "source": [
    "#Tidy things up a bit\n",
    "\n",
    "df_trimmed = df_current_mod[['PatientId', 'Appointment_Year', 'YearAfterDiagnosis', 'EndDate', 'Difference']]\n",
    "df_trimmed"
   ]
  },
  {
   "cell_type": "code",
   "execution_count": null,
   "metadata": {
    "collapsed": false,
    "deletable": true,
    "editable": true
   },
   "outputs": [],
   "source": [
    "#Print number of unique patients that have appointment records\n",
    "\n",
    "print('Unique Patients: ', len(set(df_trimmed['PatientId'])))"
   ]
  },
  {
   "cell_type": "code",
   "execution_count": null,
   "metadata": {
    "collapsed": false,
    "deletable": true,
    "editable": true
   },
   "outputs": [],
   "source": [
    "#Print number of patient records available for each patient (i.e. total number of appointments)\n",
    "\n",
    "summary = df_trimmed.groupby('PatientId').count()\n",
    "summary \n"
   ]
  },
  {
   "cell_type": "code",
   "execution_count": null,
   "metadata": {
    "collapsed": false,
    "deletable": true,
    "editable": true
   },
   "outputs": [],
   "source": [
    "#Keep only 1 column\n",
    "\n",
    "totals = summary['Appointment_Year']"
   ]
  },
  {
   "cell_type": "code",
   "execution_count": null,
   "metadata": {
    "collapsed": false,
    "deletable": true,
    "editable": true
   },
   "outputs": [],
   "source": [
    "#Convert table to dataframe\n",
    "totals = pd.DataFrame(totals)\n",
    "totals['PatientId'] = totals.index\n",
    "totals['Total Appointments'] = totals['Appointment_Year'] \n",
    "totals = totals[['PatientId', 'Total Appointments']]\n",
    "totals"
   ]
  },
  {
   "cell_type": "code",
   "execution_count": null,
   "metadata": {
    "collapsed": false,
    "deletable": true,
    "editable": true
   },
   "outputs": [],
   "source": [
    "#Merge df_trimmed and totals\n",
    "df_nearly = df_trimmed.merge(totals, on = 'PatientId', how = 'left')\n",
    "\n",
    "#Add a column of 'Appointments per year' (Total appointments/Difference)\n",
    "df_nearly['Appointments per year'] = df_nearly['Total Appointments']/df_nearly['Difference']\n",
    "df_nearly"
   ]
  },
  {
   "cell_type": "code",
   "execution_count": null,
   "metadata": {
    "collapsed": false,
    "deletable": true,
    "editable": true
   },
   "outputs": [],
   "source": [
    "#Select the desired columns\n",
    "df_close = df_nearly[['PatientId', 'Appointment_Year', 'YearAfterDiagnosis', 'EndDate', 'Difference', 'Total Appointments', 'Appointments per year']]\n",
    "\n",
    "#Rename columns\n",
    "df_close.rename(columns={'YearAfterDiagnosis': '1st_year', 'EndDate': 'Last_year', 'Difference': 'Number_of_years'}, inplace=True)\n",
    "df_close"
   ]
  },
  {
   "cell_type": "markdown",
   "metadata": {
    "deletable": true,
    "editable": true
   },
   "source": [
    "# Getting average number of appointments for every year after diagnosis"
   ]
  },
  {
   "cell_type": "code",
   "execution_count": null,
   "metadata": {
    "collapsed": false,
    "deletable": true,
    "editable": true
   },
   "outputs": [],
   "source": [
    "#Adding a column showing 'Number of years after diagnosis\n",
    "df_close['Number of years after diagnosis'] = (df_close['Appointment_Year'] - df_close['1st_year']) +1\n",
    "df_close"
   ]
  },
  {
   "cell_type": "code",
   "execution_count": null,
   "metadata": {
    "collapsed": false,
    "deletable": true,
    "editable": true
   },
   "outputs": [],
   "source": [
    "#Group data primarily by 'Patient ID', then by 'Number of years after diagnosis'\n",
    "\n",
    "grouped_id = df_close.groupby(['PatientId','Number of years after diagnosis']).count()\n",
    "grouped_id"
   ]
  },
  {
   "cell_type": "code",
   "execution_count": null,
   "metadata": {
    "collapsed": false,
    "deletable": true,
    "editable": true
   },
   "outputs": [],
   "source": [
    "#Keep only 1 column\n",
    "\n",
    "Annual_appointments_record = grouped_id['Appointments per year']\n",
    "Annual_appointments_record"
   ]
  },
  {
   "cell_type": "code",
   "execution_count": null,
   "metadata": {
    "collapsed": false,
    "deletable": true,
    "editable": true
   },
   "outputs": [],
   "source": [
    "#Create final table summarising appointment data\n",
    "\n",
    "df_done = df_close.drop_duplicates()\n",
    "df_done = df_done.round(2)\n",
    "df_done = df_done.drop(\"Number of years after diagnosis\",1)\n",
    "df_done = df_done[['PatientId', '1st_year', 'Last_year', 'Number_of_years', 'Total Appointments', 'Appointments per year']]\n",
    "df_done = df_done.drop_duplicates()\n",
    "df_done"
   ]
  },
  {
   "cell_type": "code",
   "execution_count": null,
   "metadata": {
    "collapsed": false,
    "deletable": true,
    "editable": true
   },
   "outputs": [],
   "source": [
    "#Export df_done as Excel File ('Part4_Appointment_History.csv')\n",
    "\n",
    "df_done.to_csv('Part4_Appointment_History.csv', sep=',')"
   ]
  },
  {
   "cell_type": "code",
   "execution_count": null,
   "metadata": {
    "collapsed": false,
    "deletable": true,
    "editable": true
   },
   "outputs": [],
   "source": [
    "#Create copy of Annual_appointments_record\n",
    "\n",
    "AAR = Annual_appointments_record.copy()\n",
    "AAR"
   ]
  },
  {
   "cell_type": "code",
   "execution_count": null,
   "metadata": {
    "collapsed": false,
    "deletable": true,
    "editable": true
   },
   "outputs": [],
   "source": [
    "#Reset index of AAR\n",
    "\n",
    "AAR = AAR.reset_index()"
   ]
  },
  {
   "cell_type": "code",
   "execution_count": null,
   "metadata": {
    "collapsed": false,
    "deletable": true,
    "editable": true
   },
   "outputs": [],
   "source": [
    "#Remove duplicate rows\n",
    "\n",
    "AAR = AAR.drop_duplicates()\n",
    "AAR"
   ]
  },
  {
   "cell_type": "code",
   "execution_count": null,
   "metadata": {
    "collapsed": false,
    "deletable": true,
    "editable": true
   },
   "outputs": [],
   "source": [
    "#Pivot AAR\n",
    "\n",
    "AAR_pivoted = AAR.pivot(index='PatientId', columns='Number of years after diagnosis').fillna('-')\n",
    "AAR_pivoted"
   ]
  },
  {
   "cell_type": "code",
   "execution_count": null,
   "metadata": {
    "collapsed": false,
    "deletable": true,
    "editable": true
   },
   "outputs": [],
   "source": [
    "#Export AAR_pivoted as Excel File ('Part4_Annual_Appointment_record.csv')\n",
    "\n",
    "AAR_pivoted.to_csv('Part4_Annual_Appointment_record.csv', sep=',')"
   ]
  }
 ],
 "metadata": {
  "kernelspec": {
   "display_name": "Python 3",
   "language": "python",
   "name": "python3"
  },
  "language_info": {
   "codemirror_mode": {
    "name": "ipython",
    "version": 3
   },
   "file_extension": ".py",
   "mimetype": "text/x-python",
   "name": "python",
   "nbconvert_exporter": "python",
   "pygments_lexer": "ipython3",
   "version": "3.6.0"
  }
 },
 "nbformat": 4,
 "nbformat_minor": 2
}
